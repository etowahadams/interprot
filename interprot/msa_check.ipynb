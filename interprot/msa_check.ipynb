{
 "cells": [
  {
   "cell_type": "code",
   "execution_count": 35,
   "metadata": {},
   "outputs": [],
   "source": [
    "import numpy as np\n",
    "from Bio import SeqIO"
   ]
  },
  {
   "cell_type": "code",
   "execution_count": 36,
   "metadata": {},
   "outputs": [],
   "source": [
    "aligned_fasta_path = \"c1_aligned.fasta\"\n",
    "consensus_mask = np.load(\"mask.npy\")\n",
    "mutant_fasta_path = \"c1_all_2.0_aligned.fasta\""
   ]
  },
  {
   "cell_type": "code",
   "execution_count": 37,
   "metadata": {},
   "outputs": [],
   "source": [
    "aligned_sequences = {record.id: str(record.seq) for record in SeqIO.parse(aligned_fasta_path, \"fasta\")}\n",
    "mutant_sequences = {record.id: str(record.seq) for record in SeqIO.parse(mutant_fasta_path, \"fasta\")}"
   ]
  },
  {
   "cell_type": "code",
   "execution_count": 38,
   "metadata": {},
   "outputs": [],
   "source": [
    "mask_to_sym = {\n",
    "    1: 'conserved (*)',\n",
    "    0: 'not conserved ( )',\n",
    "    2: 'somewhat conservation (.)',\n",
    "    3: 'conserved substitution (:)'\n",
    "}"
   ]
  },
  {
   "cell_type": "code",
   "execution_count": 39,
   "metadata": {},
   "outputs": [],
   "source": [
    "from prettytable import PrettyTable\n",
    "table = PrettyTable()\n",
    "table.field_names = [\"Conservation\", \"Count\", \"Unchanged when steered (%)\"]\n",
    "\n",
    "by_sym = {0:[], 1:[], 2:[], 3:[]}\n",
    "for mutant_id, mutant_seq in mutant_sequences.items():\n",
    "    aligned_seq = aligned_sequences[mutant_id]\n",
    "    seqid = [a==m for a,m in zip(aligned_seq, mutant_seq)]\n",
    "    for s, i in zip(consensus_mask, seqid):\n",
    "        by_sym[s].append(i)\n",
    "\n",
    "for i in [1, 3, 2, 0]:\n",
    "    table.add_row([mask_to_sym[i], len(by_sym[i]), round(100*sum(by_sym[i])/len(by_sym[i]))])"
   ]
  },
  {
   "cell_type": "code",
   "execution_count": 40,
   "metadata": {},
   "outputs": [
    {
     "name": "stdout",
     "output_type": "stream",
     "text": [
      "+----------------------------+-------+----------------------------+\n",
      "|        Conservation        | Count | Unchanged when steered (%) |\n",
      "+----------------------------+-------+----------------------------+\n",
      "|       conserved (*)        |  400  |            100             |\n",
      "| conserved substitution (:) |  450  |             98             |\n",
      "| somewhat conservation (.)  |  150  |             98             |\n",
      "|     not conserved ( )      | 40150 |             95             |\n",
      "+----------------------------+-------+----------------------------+\n"
     ]
    }
   ],
   "source": [
    "print(table)"
   ]
  },
  {
   "cell_type": "code",
   "execution_count": null,
   "metadata": {},
   "outputs": [],
   "source": []
  }
 ],
 "metadata": {
  "kernelspec": {
   "display_name": "insilico_pipeline_venv",
   "language": "python",
   "name": "python3"
  },
  "language_info": {
   "codemirror_mode": {
    "name": "ipython",
    "version": 3
   },
   "file_extension": ".py",
   "mimetype": "text/x-python",
   "name": "python",
   "nbconvert_exporter": "python",
   "pygments_lexer": "ipython3",
   "version": "3.9.18"
  }
 },
 "nbformat": 4,
 "nbformat_minor": 2
}
