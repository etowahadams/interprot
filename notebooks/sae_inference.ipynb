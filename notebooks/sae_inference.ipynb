{
  "nbformat": 4,
  "nbformat_minor": 0,
  "metadata": {
    "colab": {
      "provenance": []
    },
    "kernelspec": {
      "name": "python3",
      "display_name": "Python 3"
    },
    "language_info": {
      "name": "python"
    }
  },
  "cells": [
    {
      "cell_type": "markdown",
      "source": [
        "# Setup\n",
        "\n",
        "Install InterProt, load ESM and SAE"
      ],
      "metadata": {
        "id": "7Eaz3UmJF7S4"
      }
    },
    {
      "cell_type": "code",
      "execution_count": null,
      "metadata": {
        "id": "EFOR7aiGFbtW"
      },
      "outputs": [],
      "source": [
        "!pip install git+https://github.com/etowahadams/interprot.git"
      ]
    },
    {
      "cell_type": "code",
      "source": [
        "import torch\n",
        "from transformers import AutoTokenizer, EsmModel\n",
        "from safetensors.torch import load_file\n",
        "from interprot.sae_model import SparseAutoencoder\n",
        "from huggingface_hub import hf_hub_download\n",
        "\n",
        "ESM_DIM = 1280\n",
        "SAE_DIM = 4096\n",
        "LAYER = 24\n",
        "\n",
        "# Load ESM model\n",
        "tokenizer = AutoTokenizer.from_pretrained(\"facebook/esm2_t33_650M_UR50D\")\n",
        "esm_model = EsmModel.from_pretrained(\"facebook/esm2_t33_650M_UR50D\")\n",
        "\n",
        "# Load SAE model\n",
        "checkpoint_path = hf_hub_download(\n",
        "    repo_id=\"liambai/InterProt-ESM2-SAEs\",\n",
        "    filename=\"esm2_plm1280_l24_sae4096.safetensors\"\n",
        ")\n",
        "sae_model = SparseAutoencoder(ESM_DIM, SAE_DIM)\n",
        "sae_model.load_state_dict(load_file(checkpoint_path))"
      ],
      "metadata": {
        "id": "GP2EorV7GEMG"
      },
      "execution_count": null,
      "outputs": []
    },
    {
      "cell_type": "markdown",
      "source": [
        "# Inference\n",
        "\n",
        "ESM -> SAE inference on an amino acid sequence of length `L`"
      ],
      "metadata": {
        "id": "KkGwi_p-IL-g"
      }
    },
    {
      "cell_type": "code",
      "source": [
        "seq = \"MKTVRQERLKSIVRILERSKEPVSGAQLAEELSVSRQVVAAIVQDIAYLRSLGYNIVATPRGYVLAGG\"\n",
        "\n",
        "# Tokenize sequence and run ESM inference\n",
        "inputs = tokenizer(seq, padding=True, return_tensors=\"pt\")\n",
        "with torch.no_grad():\n",
        "    outputs = esm_model(**inputs, output_hidden_states=True)\n",
        "\n",
        "# esm_layer_acts has shape (L+2, ESM_DIM), +2 for BoS and EoS tokens\n",
        "esm_layer_acts = outputs.hidden_states[LAYER][0]\n",
        "\n",
        "# Using ESM embeddings from LAYER, run SAE inference\n",
        "sae_acts = sae_model.get_acts(esm_layer_acts) # (L+2, SAE_DIM)\n",
        "sae_acts"
      ],
      "metadata": {
        "colab": {
          "base_uri": "https://localhost:8080/"
        },
        "id": "WEKYZ1bpGaM6",
        "outputId": "a00a1297-c017-4505-f8b0-bb7b6cd6e486"
      },
      "execution_count": 3,
      "outputs": [
        {
          "output_type": "execute_result",
          "data": {
            "text/plain": [
              "tensor([[0.0000, 0.0000, 0.0000,  ..., 0.0000, 0.0000, 0.0000],\n",
              "        [0.0000, 0.0000, 0.0000,  ..., 0.0000, 0.0000, 0.0000],\n",
              "        [0.0000, 0.0000, 0.0000,  ..., 0.0000, 0.0000, 3.2329],\n",
              "        ...,\n",
              "        [0.0000, 0.0000, 0.0000,  ..., 0.0000, 0.0000, 0.0000],\n",
              "        [0.0000, 0.0000, 0.0000,  ..., 0.0000, 0.0000, 0.0000],\n",
              "        [0.0000, 0.0000, 0.0000,  ..., 0.0000, 0.0000, 0.0000]])"
            ]
          },
          "metadata": {},
          "execution_count": 3
        }
      ]
    }
  ]
}
